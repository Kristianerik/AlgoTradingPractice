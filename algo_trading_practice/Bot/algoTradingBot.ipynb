{
 "cells": [
  {
   "cell_type": "code",
   "execution_count": 1,
   "metadata": {},
   "outputs": [
    {
     "name": "stdout",
     "output_type": "stream",
     "text": [
      "Requirement already satisfied: pandas_ta in c:\\users\\krist\\appdata\\local\\programs\\python\\python311\\lib\\site-packages (0.3.14b0)\n",
      "Requirement already satisfied: pandas in c:\\users\\krist\\appdata\\local\\programs\\python\\python311\\lib\\site-packages (from pandas_ta) (2.2.2)\n",
      "Requirement already satisfied: numpy>=1.23.2 in c:\\users\\krist\\appdata\\local\\programs\\python\\python311\\lib\\site-packages (from pandas->pandas_ta) (1.26.4)\n",
      "Requirement already satisfied: python-dateutil>=2.8.2 in c:\\users\\krist\\appdata\\roaming\\python\\python311\\site-packages (from pandas->pandas_ta) (2.9.0.post0)\n",
      "Requirement already satisfied: pytz>=2020.1 in c:\\users\\krist\\appdata\\local\\programs\\python\\python311\\lib\\site-packages (from pandas->pandas_ta) (2024.1)\n",
      "Requirement already satisfied: tzdata>=2022.7 in c:\\users\\krist\\appdata\\local\\programs\\python\\python311\\lib\\site-packages (from pandas->pandas_ta) (2024.1)\n",
      "Requirement already satisfied: six>=1.5 in c:\\users\\krist\\appdata\\roaming\\python\\python311\\site-packages (from python-dateutil>=2.8.2->pandas->pandas_ta) (1.16.0)\n",
      "Note: you may need to restart the kernel to use updated packages.\n"
     ]
    },
    {
     "name": "stderr",
     "output_type": "stream",
     "text": [
      "\n",
      "[notice] A new release of pip available: 22.3.1 -> 24.0\n",
      "[notice] To update, run: python.exe -m pip install --upgrade pip\n"
     ]
    }
   ],
   "source": [
    "pip install pandas_ta"
   ]
  },
  {
   "cell_type": "code",
   "execution_count": 2,
   "metadata": {},
   "outputs": [
    {
     "name": "stdout",
     "output_type": "stream",
     "text": [
      "Collecting apscheduler\n",
      "  Downloading APScheduler-3.10.4-py3-none-any.whl (59 kB)\n",
      "     ---------------------------------------- 59.3/59.3 kB 1.6 MB/s eta 0:00:00\n",
      "Requirement already satisfied: six>=1.4.0 in c:\\users\\krist\\appdata\\roaming\\python\\python311\\site-packages (from apscheduler) (1.16.0)\n",
      "Requirement already satisfied: pytz in c:\\users\\krist\\appdata\\local\\programs\\python\\python311\\lib\\site-packages (from apscheduler) (2024.1)\n",
      "Collecting tzlocal!=3.*,>=2.0\n",
      "  Downloading tzlocal-5.2-py3-none-any.whl (17 kB)\n",
      "Requirement already satisfied: tzdata in c:\\users\\krist\\appdata\\local\\programs\\python\\python311\\lib\\site-packages (from tzlocal!=3.*,>=2.0->apscheduler) (2024.1)\n",
      "Installing collected packages: tzlocal, apscheduler\n",
      "Successfully installed apscheduler-3.10.4 tzlocal-5.2\n",
      "Note: you may need to restart the kernel to use updated packages.\n"
     ]
    },
    {
     "name": "stderr",
     "output_type": "stream",
     "text": [
      "\n",
      "[notice] A new release of pip available: 22.3.1 -> 24.0\n",
      "[notice] To update, run: python.exe -m pip install --upgrade pip\n"
     ]
    }
   ],
   "source": [
    "pip install apscheduler"
   ]
  },
  {
   "cell_type": "code",
   "execution_count": 3,
   "metadata": {},
   "outputs": [
    {
     "name": "stdout",
     "output_type": "stream",
     "text": [
      "Collecting oandapyV20\n",
      "  Downloading oandapyV20-0.7.2.tar.gz (51 kB)\n",
      "     ---------------------------------------- 51.6/51.6 kB 2.6 MB/s eta 0:00:00\n",
      "  Preparing metadata (setup.py): started\n",
      "  Preparing metadata (setup.py): finished with status 'done'\n",
      "Installing collected packages: oandapyV20\n",
      "  Running setup.py install for oandapyV20: started\n",
      "  Running setup.py install for oandapyV20: finished with status 'done'\n",
      "Successfully installed oandapyV20-0.7.2\n",
      "Note: you may need to restart the kernel to use updated packages.\n"
     ]
    },
    {
     "name": "stderr",
     "output_type": "stream",
     "text": [
      "  DEPRECATION: oandapyV20 is being installed using the legacy 'setup.py install' method, because it does not have a 'pyproject.toml' and the 'wheel' package is not installed. pip 23.1 will enforce this behaviour change. A possible replacement is to enable the '--use-pep517' option. Discussion can be found at https://github.com/pypa/pip/issues/8559\n",
      "\n",
      "[notice] A new release of pip available: 22.3.1 -> 24.0\n",
      "[notice] To update, run: python.exe -m pip install --upgrade pip\n"
     ]
    }
   ],
   "source": [
    "pip install oandapyV20"
   ]
  },
  {
   "cell_type": "code",
   "execution_count": 4,
   "metadata": {},
   "outputs": [
    {
     "name": "stdout",
     "output_type": "stream",
     "text": [
      "Collecting oanda_candles\n",
      "  Downloading oanda_candles-0.1.0-py3-none-any.whl (16 kB)\n",
      "Collecting forex-types<0.0.7,>=0.0.6\n",
      "  Downloading forex_types-0.0.6-py3-none-any.whl (11 kB)\n",
      "Collecting magic-kind<0.3.0,>=0.2.2\n",
      "  Downloading magic_kind-0.2.2-py3-none-any.whl (8.1 kB)\n",
      "Collecting oandapyV20<0.7.0,>=0.6.3\n",
      "  Downloading oandapyV20-0.6.3.tar.gz (52 kB)\n",
      "     ---------------------------------------- 52.7/52.7 kB 2.7 MB/s eta 0:00:00\n",
      "  Preparing metadata (setup.py): started\n",
      "  Preparing metadata (setup.py): finished with status 'done'\n",
      "Collecting requests<3.0.0,>=2.23.0\n",
      "  Downloading requests-2.31.0-py3-none-any.whl (62 kB)\n",
      "     ---------------------------------------- 62.6/62.6 kB 3.5 MB/s eta 0:00:00\n",
      "Collecting time-int<0.0.10,>=0.0.9\n",
      "  Downloading time_int-0.0.9-py3-none-any.whl (5.5 kB)\n",
      "Collecting charset-normalizer<4,>=2\n",
      "  Downloading charset_normalizer-3.3.2-cp311-cp311-win_amd64.whl (99 kB)\n",
      "     ---------------------------------------- 99.9/99.9 kB ? eta 0:00:00\n",
      "Collecting idna<4,>=2.5\n",
      "  Downloading idna-3.7-py3-none-any.whl (66 kB)\n",
      "     ---------------------------------------- 66.8/66.8 kB ? eta 0:00:00\n",
      "Collecting urllib3<3,>=1.21.1\n",
      "  Downloading urllib3-2.2.1-py3-none-any.whl (121 kB)\n",
      "     -------------------------------------- 121.1/121.1 kB 7.4 MB/s eta 0:00:00\n",
      "Collecting certifi>=2017.4.17\n",
      "  Downloading certifi-2024.2.2-py3-none-any.whl (163 kB)\n",
      "     -------------------------------------- 163.8/163.8 kB 9.6 MB/s eta 0:00:00\n",
      "Collecting pytest<6.0.0,>=5.4.2\n",
      "  Downloading pytest-5.4.3-py3-none-any.whl (248 kB)\n",
      "     ------------------------------------- 248.1/248.1 kB 14.9 MB/s eta 0:00:00\n",
      "Collecting py>=1.5.0\n",
      "  Downloading py-1.11.0-py2.py3-none-any.whl (98 kB)\n",
      "     ---------------------------------------- 98.7/98.7 kB 5.5 MB/s eta 0:00:00\n",
      "Requirement already satisfied: packaging in c:\\users\\krist\\appdata\\roaming\\python\\python311\\site-packages (from pytest<6.0.0,>=5.4.2->time-int<0.0.10,>=0.0.9->oanda_candles) (24.0)\n",
      "Requirement already satisfied: attrs>=17.4.0 in c:\\users\\krist\\appdata\\local\\programs\\python\\python311\\lib\\site-packages (from pytest<6.0.0,>=5.4.2->time-int<0.0.10,>=0.0.9->oanda_candles) (23.2.0)\n",
      "Collecting more-itertools>=4.0.0\n",
      "  Downloading more_itertools-10.2.0-py3-none-any.whl (57 kB)\n",
      "     ---------------------------------------- 57.0/57.0 kB 2.9 MB/s eta 0:00:00\n",
      "Collecting pluggy<1.0,>=0.12\n",
      "  Downloading pluggy-0.13.1-py2.py3-none-any.whl (18 kB)\n",
      "Requirement already satisfied: wcwidth in c:\\users\\krist\\appdata\\roaming\\python\\python311\\site-packages (from pytest<6.0.0,>=5.4.2->time-int<0.0.10,>=0.0.9->oanda_candles) (0.2.13)\n",
      "Collecting atomicwrites>=1.0\n",
      "  Downloading atomicwrites-1.4.1.tar.gz (14 kB)\n",
      "  Preparing metadata (setup.py): started\n",
      "  Preparing metadata (setup.py): finished with status 'done'\n",
      "Requirement already satisfied: colorama in c:\\users\\krist\\appdata\\roaming\\python\\python311\\site-packages (from pytest<6.0.0,>=5.4.2->time-int<0.0.10,>=0.0.9->oanda_candles) (0.4.6)\n",
      "Installing collected packages: oandapyV20, urllib3, py, pluggy, more-itertools, magic-kind, idna, forex-types, charset-normalizer, certifi, atomicwrites, requests, pytest, time-int, oanda_candles\n",
      "  Attempting uninstall: oandapyV20\n",
      "    Found existing installation: oandapyV20 0.7.2\n",
      "    Uninstalling oandapyV20-0.7.2:\n",
      "      Successfully uninstalled oandapyV20-0.7.2\n",
      "  Running setup.py install for oandapyV20: started\n",
      "  Running setup.py install for oandapyV20: finished with status 'done'\n",
      "  Running setup.py install for atomicwrites: started\n",
      "  Running setup.py install for atomicwrites: finished with status 'done'\n",
      "Successfully installed atomicwrites-1.4.1 certifi-2024.2.2 charset-normalizer-3.3.2 forex-types-0.0.6 idna-3.7 magic-kind-0.2.2 more-itertools-10.2.0 oanda_candles-0.1.0 oandapyV20-0.6.3 pluggy-0.13.1 py-1.11.0 pytest-5.4.3 requests-2.31.0 time-int-0.0.9 urllib3-2.2.1\n",
      "Note: you may need to restart the kernel to use updated packages.\n"
     ]
    },
    {
     "name": "stderr",
     "output_type": "stream",
     "text": [
      "  DEPRECATION: oandapyV20 is being installed using the legacy 'setup.py install' method, because it does not have a 'pyproject.toml' and the 'wheel' package is not installed. pip 23.1 will enforce this behaviour change. A possible replacement is to enable the '--use-pep517' option. Discussion can be found at https://github.com/pypa/pip/issues/8559\n",
      "  WARNING: The script normalizer.exe is installed in 'c:\\Users\\krist\\AppData\\Local\\Programs\\Python\\Python311\\Scripts' which is not on PATH.\n",
      "  Consider adding this directory to PATH or, if you prefer to suppress this warning, use --no-warn-script-location.\n",
      "  DEPRECATION: atomicwrites is being installed using the legacy 'setup.py install' method, because it does not have a 'pyproject.toml' and the 'wheel' package is not installed. pip 23.1 will enforce this behaviour change. A possible replacement is to enable the '--use-pep517' option. Discussion can be found at https://github.com/pypa/pip/issues/8559\n",
      "  WARNING: The scripts py.test.exe and pytest.exe are installed in 'c:\\Users\\krist\\AppData\\Local\\Programs\\Python\\Python311\\Scripts' which is not on PATH.\n",
      "  Consider adding this directory to PATH or, if you prefer to suppress this warning, use --no-warn-script-location.\n",
      "\n",
      "[notice] A new release of pip available: 22.3.1 -> 24.0\n",
      "[notice] To update, run: python.exe -m pip install --upgrade pip\n"
     ]
    }
   ],
   "source": [
    "pip install oanda_candles"
   ]
  },
  {
   "cell_type": "code",
   "execution_count": 5,
   "metadata": {},
   "outputs": [],
   "source": [
    "import pandas as pd\n",
    "import pandas_ta as ta\n",
    "from apscheduler.schedulers.blocking import BlockingScheduler\n",
    "from oandapyV20 import API\n",
    "import oandapyV20.endpoints.orders as orders\n",
    "import oandapyV20.endpoints.trades as trades\n",
    "from oandapyV20.contrib.requests import MarketOrderRequest\n",
    "from oanda_candles import Pair, Gran, CandleClient\n",
    "from oandapyV20.contrib.requests import TakeProfitDetails, StopLossDetails"
   ]
  },
  {
   "cell_type": "code",
   "execution_count": 6,
   "metadata": {},
   "outputs": [],
   "source": [
    "def ema_signal(df, current_candle, backcandles):\n",
    "    df_slice = df.reset_index().copy()\n",
    "    #Get range of candles in window\n",
    "    start = max(0, current_candle - backcandles)\n",
    "    end = current_candle\n",
    "    relevant_rows = df_slice.iloc[start:end]\n",
    "\n",
    "    #Check if all EMAA_fast vals are < EMA_slow values\n",
    "    if all(relevant_rows[\"EMA_fast\"] < relevant_rows[\"EMA_slow\"]):\n",
    "        return 1\n",
    "    elif all(relevant_rows[\"EMA_fast\"] > relevant_rows[\"EMA_slow\"]):\n",
    "        return 2\n",
    "    else:\n",
    "        return 0"
   ]
  },
  {
   "cell_type": "code",
   "execution_count": 7,
   "metadata": {},
   "outputs": [],
   "source": [
    "def total_signal(df, current_candle, backcandles):\n",
    "    if (ema_signal(df, current_candle, backcandles) == 2\n",
    "        and df.Close[current_candle]<=df['BBL_15_1.5'][current_candle]\n",
    "        #anddf.RSI[current_candle]<60\n",
    "        ):\n",
    "            return 2\n",
    "    if (ema_signal(df, current_candle, backcandles) == 1\n",
    "        and df.Close[current_candle]>=df['BBU_15_1.5'][current_candle]\n",
    "        #and df.RSI[current_candle]>40\n",
    "        ):\n",
    "          return 1\n",
    "    return 0"
   ]
  },
  {
   "cell_type": "markdown",
   "metadata": {},
   "source": [
    "Connecting to Market"
   ]
  },
  {
   "cell_type": "code",
   "execution_count": 8,
   "metadata": {},
   "outputs": [],
   "source": [
    "access_token = ''\n",
    "accountID = '101-001-25962876-001'"
   ]
  },
  {
   "cell_type": "code",
   "execution_count": 10,
   "metadata": {},
   "outputs": [
    {
     "name": "stdout",
     "output_type": "stream",
     "text": [
      "True\n",
      "<Candle: 2024-05-01 09:45 AM>\n",
      "True\n",
      "<Candle: 2024-05-01 09:50 AM>\n",
      "True\n",
      "<Candle: 2024-05-01 09:55 AM>\n"
     ]
    }
   ],
   "source": [
    "def get_candles(n):\n",
    "    client = CandleClient(access_token, real=False)\n",
    "    collector = client.get_collector(Pair.EUR_USD, Gran.M5)\n",
    "    candles = collector.grab(n)\n",
    "    return candles\n",
    "\n",
    "candles = get_candles(3)\n",
    "for candle in candles:\n",
    "    print(float(str(candle.bid.o))>1)\n",
    "    print(candle)"
   ]
  },
  {
   "cell_type": "code",
   "execution_count": 11,
   "metadata": {},
   "outputs": [],
   "source": [
    "def count_opened_trades():\n",
    "    client = API(access_token=access_token)\n",
    "    r = trades.OpenTrades(accountID=accountID)\n",
    "    client.request(r)\n",
    "    return len(r.response['trades'])"
   ]
  },
  {
   "cell_type": "code",
   "execution_count": 12,
   "metadata": {},
   "outputs": [],
   "source": [
    "def get_candles_frame(n):\n",
    "    candles = get_candles(n)\n",
    "    dfstream = pd.DataFrame(columns=['Open','Close','High','Low'])\n",
    "\n",
    "    i=0\n",
    "    for candle in candles:\n",
    "        dfstream.loc[i, ['Open']] = float(str(candle.bid.o))\n",
    "        dfstream.loc[i, ['Close']] = float(str(candle.bid.c))\n",
    "        dfstream.loc[i, ['High']] = float(str(candle.bid.h))\n",
    "        dfstream.loc[i, ['Low']] =float(str(candle.bid.l))\n",
    "        i = i + 1\n",
    "    \n",
    "    dfstream['Open'] = dfstream['Open'].astype(float)\n",
    "    dfstream['Close'] = dfstream['CLose'].astype(float)\n",
    "    dfstream['High'] = dfstream['High'].astype(float)\n",
    "    dfstream['Low'] = dfstream['Low'].astype(float)\n",
    "\n",
    "    dfstream[\"ATR\"] = ta.atr(dfstream.High, dfstream.Low, dfstream.Close, length=7)\n",
    "    dfstream[\"EMA_fast\"] = ta.ema(dfstream.Close, length=30)\n",
    "    dfstream[\"EMA_slow\"] = ta.ema(dfstream.Close, length=50)\n",
    "    dfstream['RSI'] = ta.rsi(dfstream.Close, length=10)\n",
    "    my_bbands = ta.bbands(dfstream.Close, length=15, std=1.5)\n",
    "    dfstream = dfstream.join(my_bbands)\n",
    "\n",
    "    return dfstream"
   ]
  }
 ],
 "metadata": {
  "kernelspec": {
   "display_name": "Python 3",
   "language": "python",
   "name": "python3"
  },
  "language_info": {
   "codemirror_mode": {
    "name": "ipython",
    "version": 3
   },
   "file_extension": ".py",
   "mimetype": "text/x-python",
   "name": "python",
   "nbconvert_exporter": "python",
   "pygments_lexer": "ipython3",
   "version": "3.11.3"
  }
 },
 "nbformat": 4,
 "nbformat_minor": 2
}
