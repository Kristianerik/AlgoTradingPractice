{
 "cells": [
  {
   "cell_type": "code",
   "execution_count": 1,
   "metadata": {},
   "outputs": [
    {
     "name": "stdout",
     "output_type": "stream",
     "text": [
      "Requirement already satisfied: pandas_ta in c:\\users\\krist\\appdata\\local\\programs\\python\\python311\\lib\\site-packages (0.3.14b0)\n",
      "Requirement already satisfied: pandas in c:\\users\\krist\\appdata\\local\\programs\\python\\python311\\lib\\site-packages (from pandas_ta) (2.2.2)\n",
      "Requirement already satisfied: numpy>=1.23.2 in c:\\users\\krist\\appdata\\local\\programs\\python\\python311\\lib\\site-packages (from pandas->pandas_ta) (1.26.4)\n",
      "Requirement already satisfied: python-dateutil>=2.8.2 in c:\\users\\krist\\appdata\\roaming\\python\\python311\\site-packages (from pandas->pandas_ta) (2.9.0.post0)\n",
      "Requirement already satisfied: pytz>=2020.1 in c:\\users\\krist\\appdata\\local\\programs\\python\\python311\\lib\\site-packages (from pandas->pandas_ta) (2024.1)\n",
      "Requirement already satisfied: tzdata>=2022.7 in c:\\users\\krist\\appdata\\local\\programs\\python\\python311\\lib\\site-packages (from pandas->pandas_ta) (2024.1)\n",
      "Requirement already satisfied: six>=1.5 in c:\\users\\krist\\appdata\\roaming\\python\\python311\\site-packages (from python-dateutil>=2.8.2->pandas->pandas_ta) (1.16.0)\n",
      "Note: you may need to restart the kernel to use updated packages.\n"
     ]
    },
    {
     "name": "stderr",
     "output_type": "stream",
     "text": [
      "\n",
      "[notice] A new release of pip available: 22.3.1 -> 24.0\n",
      "[notice] To update, run: python.exe -m pip install --upgrade pip\n"
     ]
    }
   ],
   "source": [
    "pip install pandas_ta"
   ]
  },
  {
   "cell_type": "code",
   "execution_count": 2,
   "metadata": {},
   "outputs": [
    {
     "name": "stdout",
     "output_type": "stream",
     "text": [
      "Note: you may need to restart the kernel to use updated packages.Requirement already satisfied: apscheduler in c:\\users\\krist\\appdata\\local\\programs\\python\\python311\\lib\\site-packages (3.10.4)\n",
      "Requirement already satisfied: six>=1.4.0 in c:\\users\\krist\\appdata\\roaming\\python\\python311\\site-packages (from apscheduler) (1.16.0)\n",
      "Requirement already satisfied: pytz in c:\\users\\krist\\appdata\\local\\programs\\python\\python311\\lib\\site-packages (from apscheduler) (2024.1)\n",
      "Requirement already satisfied: tzlocal!=3.*,>=2.0 in c:\\users\\krist\\appdata\\local\\programs\\python\\python311\\lib\\site-packages (from apscheduler) (5.2)\n",
      "Requirement already satisfied: tzdata in c:\\users\\krist\\appdata\\local\\programs\\python\\python311\\lib\\site-packages (from tzlocal!=3.*,>=2.0->apscheduler) (2024.1)\n",
      "\n"
     ]
    },
    {
     "name": "stderr",
     "output_type": "stream",
     "text": [
      "\n",
      "[notice] A new release of pip available: 22.3.1 -> 24.0\n",
      "[notice] To update, run: python.exe -m pip install --upgrade pip\n"
     ]
    }
   ],
   "source": [
    "pip install apscheduler"
   ]
  },
  {
   "cell_type": "code",
   "execution_count": 3,
   "metadata": {},
   "outputs": [
    {
     "name": "stdout",
     "output_type": "stream",
     "text": [
      "Requirement already satisfied: oandapyV20 in c:\\users\\krist\\appdata\\local\\programs\\python\\python311\\lib\\site-packages (0.6.3)\n",
      "Note: you may need to restart the kernel to use updated packages.\n"
     ]
    },
    {
     "name": "stderr",
     "output_type": "stream",
     "text": [
      "\n",
      "[notice] A new release of pip available: 22.3.1 -> 24.0\n",
      "[notice] To update, run: python.exe -m pip install --upgrade pip\n"
     ]
    }
   ],
   "source": [
    "pip install oandapyV20"
   ]
  },
  {
   "cell_type": "code",
   "execution_count": 4,
   "metadata": {},
   "outputs": [
    {
     "name": "stdout",
     "output_type": "stream",
     "text": [
      "Requirement already satisfied: oanda_candles in c:\\users\\krist\\appdata\\local\\programs\\python\\python311\\lib\\site-packages (0.1.0)\n",
      "Requirement already satisfied: forex-types<0.0.7,>=0.0.6 in c:\\users\\krist\\appdata\\local\\programs\\python\\python311\\lib\\site-packages (from oanda_candles) (0.0.6)\n",
      "Requirement already satisfied: magic-kind<0.3.0,>=0.2.2 in c:\\users\\krist\\appdata\\local\\programs\\python\\python311\\lib\\site-packages (from oanda_candles) (0.2.2)\n",
      "Requirement already satisfied: oandapyV20<0.7.0,>=0.6.3 in c:\\users\\krist\\appdata\\local\\programs\\python\\python311\\lib\\site-packages (from oanda_candles) (0.6.3)\n",
      "Requirement already satisfied: requests<3.0.0,>=2.23.0 in c:\\users\\krist\\appdata\\local\\programs\\python\\python311\\lib\\site-packages (from oanda_candles) (2.31.0)\n",
      "Requirement already satisfied: time-int<0.0.10,>=0.0.9 in c:\\users\\krist\\appdata\\local\\programs\\python\\python311\\lib\\site-packages (from oanda_candles) (0.0.9)\n",
      "Requirement already satisfied: charset-normalizer<4,>=2 in c:\\users\\krist\\appdata\\local\\programs\\python\\python311\\lib\\site-packages (from requests<3.0.0,>=2.23.0->oanda_candles) (3.3.2)\n",
      "Requirement already satisfied: idna<4,>=2.5 in c:\\users\\krist\\appdata\\local\\programs\\python\\python311\\lib\\site-packages (from requests<3.0.0,>=2.23.0->oanda_candles) (3.7)\n",
      "Requirement already satisfied: urllib3<3,>=1.21.1 in c:\\users\\krist\\appdata\\local\\programs\\python\\python311\\lib\\site-packages (from requests<3.0.0,>=2.23.0->oanda_candles) (2.2.1)\n",
      "Requirement already satisfied: certifi>=2017.4.17 in c:\\users\\krist\\appdata\\local\\programs\\python\\python311\\lib\\site-packages (from requests<3.0.0,>=2.23.0->oanda_candles) (2024.2.2)\n",
      "Requirement already satisfied: pytest<6.0.0,>=5.4.2 in c:\\users\\krist\\appdata\\local\\programs\\python\\python311\\lib\\site-packages (from time-int<0.0.10,>=0.0.9->oanda_candles) (5.4.3)\n",
      "Requirement already satisfied: py>=1.5.0 in c:\\users\\krist\\appdata\\local\\programs\\python\\python311\\lib\\site-packages (from pytest<6.0.0,>=5.4.2->time-int<0.0.10,>=0.0.9->oanda_candles) (1.11.0)\n",
      "Requirement already satisfied: packaging in c:\\users\\krist\\appdata\\roaming\\python\\python311\\site-packages (from pytest<6.0.0,>=5.4.2->time-int<0.0.10,>=0.0.9->oanda_candles) (24.0)\n",
      "Requirement already satisfied: attrs>=17.4.0 in c:\\users\\krist\\appdata\\local\\programs\\python\\python311\\lib\\site-packages (from pytest<6.0.0,>=5.4.2->time-int<0.0.10,>=0.0.9->oanda_candles) (23.2.0)\n",
      "Requirement already satisfied: more-itertools>=4.0.0 in c:\\users\\krist\\appdata\\local\\programs\\python\\python311\\lib\\site-packages (from pytest<6.0.0,>=5.4.2->time-int<0.0.10,>=0.0.9->oanda_candles) (10.2.0)\n",
      "Requirement already satisfied: pluggy<1.0,>=0.12 in c:\\users\\krist\\appdata\\local\\programs\\python\\python311\\lib\\site-packages (from pytest<6.0.0,>=5.4.2->time-int<0.0.10,>=0.0.9->oanda_candles) (0.13.1)\n",
      "Requirement already satisfied: wcwidth in c:\\users\\krist\\appdata\\roaming\\python\\python311\\site-packages (from pytest<6.0.0,>=5.4.2->time-int<0.0.10,>=0.0.9->oanda_candles) (0.2.13)\n",
      "Requirement already satisfied: atomicwrites>=1.0 in c:\\users\\krist\\appdata\\local\\programs\\python\\python311\\lib\\site-packages (from pytest<6.0.0,>=5.4.2->time-int<0.0.10,>=0.0.9->oanda_candles) (1.4.1)\n",
      "Requirement already satisfied: colorama in c:\\users\\krist\\appdata\\roaming\\python\\python311\\site-packages (from pytest<6.0.0,>=5.4.2->time-int<0.0.10,>=0.0.9->oanda_candles) (0.4.6)\n",
      "Note: you may need to restart the kernel to use updated packages.\n"
     ]
    },
    {
     "name": "stderr",
     "output_type": "stream",
     "text": [
      "\n",
      "[notice] A new release of pip available: 22.3.1 -> 24.0\n",
      "[notice] To update, run: python.exe -m pip install --upgrade pip\n"
     ]
    }
   ],
   "source": [
    "pip install oanda_candles"
   ]
  },
  {
   "cell_type": "code",
   "execution_count": 5,
   "metadata": {},
   "outputs": [],
   "source": [
    "import pandas as pd\n",
    "import pandas_ta as ta\n",
    "from apscheduler.schedulers.blocking import BlockingScheduler\n",
    "from oandapyV20 import API\n",
    "import oandapyV20.endpoints.orders as orders\n",
    "import oandapyV20.endpoints.trades as trades\n",
    "from oandapyV20.contrib.requests import MarketOrderRequest\n",
    "from oanda_candles import Pair, Gran, CandleClient\n",
    "from oandapyV20.contrib.requests import TakeProfitDetails, StopLossDetails"
   ]
  },
  {
   "cell_type": "code",
   "execution_count": 6,
   "metadata": {},
   "outputs": [],
   "source": [
    "def ema_signal(df, current_candle, backcandles):\n",
    "    df_slice = df.reset_index().copy()\n",
    "    #Get range of candles in window\n",
    "    start = max(0, current_candle - backcandles)\n",
    "    end = current_candle\n",
    "    relevant_rows = df_slice.iloc[start:end]\n",
    "\n",
    "    #Check if all EMAA_fast vals are < EMA_slow values\n",
    "    if all(relevant_rows[\"EMA_fast\"] < relevant_rows[\"EMA_slow\"]):\n",
    "        return 1\n",
    "    elif all(relevant_rows[\"EMA_fast\"] > relevant_rows[\"EMA_slow\"]):\n",
    "        return 2\n",
    "    else:\n",
    "        return 0"
   ]
  },
  {
   "cell_type": "code",
   "execution_count": 7,
   "metadata": {},
   "outputs": [],
   "source": [
    "def total_signal(df, current_candle, backcandles):\n",
    "    if (ema_signal(df, current_candle, backcandles) == 2\n",
    "        and df.Close[current_candle]<=df['BBL_15_1.5'][current_candle]\n",
    "        #anddf.RSI[current_candle]<60\n",
    "        ):\n",
    "            return 2\n",
    "    if (ema_signal(df, current_candle, backcandles) == 1\n",
    "        and df.Close[current_candle]>=df['BBU_15_1.5'][current_candle]\n",
    "        #and df.RSI[current_candle]>40\n",
    "        ):\n",
    "          return 1\n",
    "    return 0"
   ]
  },
  {
   "cell_type": "markdown",
   "metadata": {},
   "source": [
    "Connecting to Market"
   ]
  },
  {
   "cell_type": "code",
   "execution_count": 10,
   "metadata": {},
   "outputs": [],
   "source": [
    "access_token = ''\n",
    "accountID = '101-001-25962876-001'"
   ]
  },
  {
   "cell_type": "code",
   "execution_count": 11,
   "metadata": {},
   "outputs": [
    {
     "name": "stdout",
     "output_type": "stream",
     "text": [
      "True\n",
      "<Candle: 2024-05-03 08:45 PM>\n",
      "True\n",
      "<Candle: 2024-05-03 08:50 PM>\n",
      "True\n",
      "<Candle: 2024-05-03 08:55 PM>\n"
     ]
    }
   ],
   "source": [
    "def get_candles(n):\n",
    "    client = CandleClient(access_token, real=False)\n",
    "    collector = client.get_collector(Pair.EUR_USD, Gran.M5)\n",
    "    candles = collector.grab(n)\n",
    "    return candles\n",
    "\n",
    "candles = get_candles(3)\n",
    "for candle in candles:\n",
    "    print(float(str(candle.bid.o))>1)\n",
    "    print(candle)"
   ]
  },
  {
   "cell_type": "code",
   "execution_count": 12,
   "metadata": {},
   "outputs": [],
   "source": [
    "def count_opened_trades():\n",
    "    client = API(access_token=access_token)\n",
    "    r = trades.OpenTrades(accountID=accountID)\n",
    "    client.request(r)\n",
    "    return len(r.response['trades'])"
   ]
  },
  {
   "cell_type": "code",
   "execution_count": 13,
   "metadata": {},
   "outputs": [],
   "source": [
    "def get_candles_frame(n):\n",
    "    candles = get_candles(n)\n",
    "    dfstream = pd.DataFrame(columns=['Open','Close','High','Low'])\n",
    "\n",
    "    i=0\n",
    "    for candle in candles:\n",
    "        dfstream.loc[i, ['Open']] = float(str(candle.bid.o))\n",
    "        dfstream.loc[i, ['Close']] = float(str(candle.bid.c))\n",
    "        dfstream.loc[i, ['High']] = float(str(candle.bid.h))\n",
    "        dfstream.loc[i, ['Low']] =float(str(candle.bid.l))\n",
    "        i = i + 1\n",
    "    \n",
    "    dfstream['Open'] = dfstream['Open'].astype(float)\n",
    "    dfstream['Close'] = dfstream['CLose'].astype(float)\n",
    "    dfstream['High'] = dfstream['High'].astype(float)\n",
    "    dfstream['Low'] = dfstream['Low'].astype(float)\n",
    "\n",
    "    dfstream[\"ATR\"] = ta.atr(dfstream.High, dfstream.Low, dfstream.Close, length=7)\n",
    "    dfstream[\"EMA_fast\"] = ta.ema(dfstream.Close, length=30)\n",
    "    dfstream[\"EMA_slow\"] = ta.ema(dfstream.Close, length=50)\n",
    "    dfstream['RSI'] = ta.rsi(dfstream.Close, length=10)\n",
    "    my_bbands = ta.bbands(dfstream.Close, length=15, std=1.5)\n",
    "    dfstream = dfstream.join(my_bbands)\n",
    "\n",
    "    return dfstream"
   ]
  },
  {
   "cell_type": "code",
   "execution_count": 14,
   "metadata": {},
   "outputs": [],
   "source": [
    "import sys\n",
    "from datetime import datetime\n",
    "\n",
    "def trading_job():\n",
    "    dfstream = get_candles_frame(70)\n",
    "\n",
    "    signal = total_signal(dfstream, len(dfstream)-1, 7)\n",
    "\n",
    "    slatr = 1.1*dfstream.ATR.iloc[-1]\n",
    "    TPSLRatio = 1.5\n",
    "    max_spread = 16e-5\n",
    "\n",
    "    candle = get_candles(1)[-1]\n",
    "    candle_open_bid = float(str(candle.bid.o))\n",
    "    candle_open_ask = float(str(candle.ask.o))\n",
    "    spread = candle_open_ask-candle_open_bid\n",
    "\n",
    "    SLBuy = candle_open_bid-slatr-spread\n",
    "    SLSell = candle_open_ask+slatr+spread\n",
    "\n",
    "    TPBuy = candle_open_ask+slatr*TPSLRatio+spread\n",
    "    TPSell = candle_open_bid-slatr*TPSLRatio-spread\n",
    "\n",
    "    client = API(access_token=access_token)\n",
    "\n",
    "    #Sell\n",
    "    if signal == 1 and count_opened_trades() == 0 and spread < max_spread:\n",
    "        print(\"Sell Signal Found...\")\n",
    "        mo = MarketOrderRequest(instrument=\"EUR_USD\", units=-3000, takeProfitOnFill=TakeProfitDetails(price=TPSell).data, stopLossOnFill=StopLossDetails(price=SLSell).data)\n",
    "        r = orders.OrderCreate(accountID, data=mo.data)\n",
    "        ry = client.request(r)\n",
    "        print(ry)\n",
    "    #Buy\n",
    "    elif signal == 2 and count_opened_trades() == 0 and spread < max_spread:\n",
    "        print(\"Buy Signal FOund...\")\n",
    "        mo = MarketOrderRequest(instrument=\"EUR_USD\", units=3000, takeProfitOnFill=TakeProfitDetails(price=TPBuy).data, stopLossOnFill=StopLossDetails(price=SLBuy).data)\n",
    "        r = orders.OrderCreate(accountID, data=mo.data)\n",
    "        ry = client.request(r)\n",
    "        print(ry)"
   ]
  },
  {
   "cell_type": "markdown",
   "metadata": {},
   "source": [
    "Executing Orders"
   ]
  },
  {
   "cell_type": "code",
   "execution_count": null,
   "metadata": {},
   "outputs": [],
   "source": [
    "scheduler = BlockingScheduler()\n",
    "scheduler.add_job(trading_job, 'cron', days_of_week='mon-fri', hour='00-23', minute='1,6,11,16,21,26,31,36,41,45,51,56', timezone='America/Chicago')\n",
    "scheduler.start()"
   ]
  }
 ],
 "metadata": {
  "kernelspec": {
   "display_name": "Python 3",
   "language": "python",
   "name": "python3"
  },
  "language_info": {
   "codemirror_mode": {
    "name": "ipython",
    "version": 3
   },
   "file_extension": ".py",
   "mimetype": "text/x-python",
   "name": "python",
   "nbconvert_exporter": "python",
   "pygments_lexer": "ipython3",
   "version": "3.11.3"
  }
 },
 "nbformat": 4,
 "nbformat_minor": 2
}
